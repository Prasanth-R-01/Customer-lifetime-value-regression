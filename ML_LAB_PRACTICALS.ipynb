{
  "nbformat": 4,
  "nbformat_minor": 0,
  "metadata": {
    "colab": {
      "name": "ML - LAB - PRACTICALS.ipynb",
      "provenance": [],
      "collapsed_sections": []
    },
    "kernelspec": {
      "name": "python3",
      "display_name": "Python 3"
    },
    "language_info": {
      "name": "python"
    }
  },
  "cells": [
    {
      "cell_type": "markdown",
      "metadata": {
        "id": "V5Q-yJk9TMVC"
      },
      "source": [
        "# IMPORTING REQUIRED LIBRARIES"
      ]
    },
    {
      "cell_type": "code",
      "metadata": {
        "id": "eV9bOodB4HCS"
      },
      "source": [
        "import pandas as pd \n",
        "import matplotlib.pyplot as plt \n",
        "import seaborn as sns\n",
        "import datetime as dt\n",
        "import numpy as np"
      ],
      "execution_count": 1,
      "outputs": []
    },
    {
      "cell_type": "markdown",
      "metadata": {
        "id": "6bqmj7KRTSoI"
      },
      "source": [
        "# LOADING DATASETS"
      ]
    },
    {
      "cell_type": "code",
      "metadata": {
        "id": "ta8XT8AvK1tJ"
      },
      "source": [
        "data = pd.read_excel(\"Online Retail.xlsx\")"
      ],
      "execution_count": 3,
      "outputs": []
    },
    {
      "cell_type": "code",
      "metadata": {
        "colab": {
          "base_uri": "https://localhost:8080/",
          "height": 203
        },
        "id": "3MBsLlbtMSuf",
        "outputId": "8e197af4-aeab-4ff4-83c5-63bb85f2f714"
      },
      "source": [
        "data.head()"
      ],
      "execution_count": 4,
      "outputs": [
        {
          "output_type": "execute_result",
          "data": {
            "text/html": [
              "<div>\n",
              "<style scoped>\n",
              "    .dataframe tbody tr th:only-of-type {\n",
              "        vertical-align: middle;\n",
              "    }\n",
              "\n",
              "    .dataframe tbody tr th {\n",
              "        vertical-align: top;\n",
              "    }\n",
              "\n",
              "    .dataframe thead th {\n",
              "        text-align: right;\n",
              "    }\n",
              "</style>\n",
              "<table border=\"1\" class=\"dataframe\">\n",
              "  <thead>\n",
              "    <tr style=\"text-align: right;\">\n",
              "      <th></th>\n",
              "      <th>InvoiceNo</th>\n",
              "      <th>StockCode</th>\n",
              "      <th>Description</th>\n",
              "      <th>Quantity</th>\n",
              "      <th>InvoiceDate</th>\n",
              "      <th>UnitPrice</th>\n",
              "      <th>CustomerID</th>\n",
              "      <th>Country</th>\n",
              "    </tr>\n",
              "  </thead>\n",
              "  <tbody>\n",
              "    <tr>\n",
              "      <th>0</th>\n",
              "      <td>536365</td>\n",
              "      <td>85123A</td>\n",
              "      <td>WHITE HANGING HEART T-LIGHT HOLDER</td>\n",
              "      <td>6</td>\n",
              "      <td>2010-12-01 08:26:00</td>\n",
              "      <td>2.55</td>\n",
              "      <td>17850.0</td>\n",
              "      <td>United Kingdom</td>\n",
              "    </tr>\n",
              "    <tr>\n",
              "      <th>1</th>\n",
              "      <td>536365</td>\n",
              "      <td>71053</td>\n",
              "      <td>WHITE METAL LANTERN</td>\n",
              "      <td>6</td>\n",
              "      <td>2010-12-01 08:26:00</td>\n",
              "      <td>3.39</td>\n",
              "      <td>17850.0</td>\n",
              "      <td>United Kingdom</td>\n",
              "    </tr>\n",
              "    <tr>\n",
              "      <th>2</th>\n",
              "      <td>536365</td>\n",
              "      <td>84406B</td>\n",
              "      <td>CREAM CUPID HEARTS COAT HANGER</td>\n",
              "      <td>8</td>\n",
              "      <td>2010-12-01 08:26:00</td>\n",
              "      <td>2.75</td>\n",
              "      <td>17850.0</td>\n",
              "      <td>United Kingdom</td>\n",
              "    </tr>\n",
              "    <tr>\n",
              "      <th>3</th>\n",
              "      <td>536365</td>\n",
              "      <td>84029G</td>\n",
              "      <td>KNITTED UNION FLAG HOT WATER BOTTLE</td>\n",
              "      <td>6</td>\n",
              "      <td>2010-12-01 08:26:00</td>\n",
              "      <td>3.39</td>\n",
              "      <td>17850.0</td>\n",
              "      <td>United Kingdom</td>\n",
              "    </tr>\n",
              "    <tr>\n",
              "      <th>4</th>\n",
              "      <td>536365</td>\n",
              "      <td>84029E</td>\n",
              "      <td>RED WOOLLY HOTTIE WHITE HEART.</td>\n",
              "      <td>6</td>\n",
              "      <td>2010-12-01 08:26:00</td>\n",
              "      <td>3.39</td>\n",
              "      <td>17850.0</td>\n",
              "      <td>United Kingdom</td>\n",
              "    </tr>\n",
              "  </tbody>\n",
              "</table>\n",
              "</div>"
            ],
            "text/plain": [
              "  InvoiceNo StockCode  ... CustomerID         Country\n",
              "0    536365    85123A  ...    17850.0  United Kingdom\n",
              "1    536365     71053  ...    17850.0  United Kingdom\n",
              "2    536365    84406B  ...    17850.0  United Kingdom\n",
              "3    536365    84029G  ...    17850.0  United Kingdom\n",
              "4    536365    84029E  ...    17850.0  United Kingdom\n",
              "\n",
              "[5 rows x 8 columns]"
            ]
          },
          "metadata": {
            "tags": []
          },
          "execution_count": 4
        }
      ]
    },
    {
      "cell_type": "markdown",
      "metadata": {
        "id": "7COiqQxJMX2n"
      },
      "source": [
        "# Removing Duplicates"
      ]
    },
    {
      "cell_type": "code",
      "metadata": {
        "id": "dNP4j9JfMUMY"
      },
      "source": [
        "filtered_data=data[['Country','CustomerID']].drop_duplicates()"
      ],
      "execution_count": 5,
      "outputs": []
    },
    {
      "cell_type": "markdown",
      "metadata": {
        "id": "yLHVqZGtTYXf"
      },
      "source": [
        "# DATA INSIGHTS"
      ]
    },
    {
      "cell_type": "code",
      "metadata": {
        "colab": {
          "base_uri": "https://localhost:8080/",
          "height": 353
        },
        "id": "IkgYIIYDMec9",
        "outputId": "cb07d259-0578-4c1e-fc97-758316b3c9fe"
      },
      "source": [
        "#Top ten country's customer\n",
        "filtered_data.Country.value_counts()[:10].plot(kind='bar')"
      ],
      "execution_count": 6,
      "outputs": [
        {
          "output_type": "execute_result",
          "data": {
            "text/plain": [
              "<matplotlib.axes._subplots.AxesSubplot at 0x7f51a8678450>"
            ]
          },
          "metadata": {
            "tags": []
          },
          "execution_count": 6
        },
        {
          "output_type": "display_data",
          "data": {
            "image/png": "[encoded data removed]",
            "text/plain": [
              "<Figure size 432x288 with 1 Axes>"
            ]
          },
          "metadata": {
            "tags": [],
            "needs_background": "light"
          }
        }
      ]
    },
    {
      "cell_type": "code",
      "metadata": {
        "colab": {
          "base_uri": "https://localhost:8080/"
        },
        "id": "HA6tux2yMiRl",
        "outputId": "5dd14466-5144-46be-ee65-3b1183138bd6"
      },
      "source": [
        "uk_data=data[data.Country=='United Kingdom']\n",
        "uk_data.info()"
      ],
      "execution_count": 7,
      "outputs": [
        {
          "output_type": "stream",
          "text": [
            "<class 'pandas.core.frame.DataFrame'>\n",
            "Int64Index: 495478 entries, 0 to 541893\n",
            "Data columns (total 8 columns):\n",
            " #   Column       Non-Null Count   Dtype         \n",
            "---  ------       --------------   -----         \n",
            " 0   InvoiceNo    495478 non-null  object        \n",
            " 1   StockCode    495478 non-null  object        \n",
            " 2   Description  494024 non-null  object        \n",
            " 3   Quantity     495478 non-null  int64         \n",
            " 4   InvoiceDate  495478 non-null  datetime64[ns]\n",
            " 5   UnitPrice    495478 non-null  float64       \n",
            " 6   CustomerID   361878 non-null  float64       \n",
            " 7   Country      495478 non-null  object        \n",
            "dtypes: datetime64[ns](1), float64(2), int64(1), object(4)\n",
            "memory usage: 34.0+ MB\n"
          ],
          "name": "stdout"
        }
      ]
    },
    {
      "cell_type": "code",
      "metadata": {
        "colab": {
          "base_uri": "https://localhost:8080/",
          "height": 295
        },
        "id": "tznAxQFcMlXt",
        "outputId": "4725cf23-a03a-4179-e398-01b4353ca298"
      },
      "source": [
        "uk_data.describe()"
      ],
      "execution_count": 8,
      "outputs": [
        {
          "output_type": "execute_result",
          "data": {
            "text/html": [
              "<div>\n",
              "<style scoped>\n",
              "    .dataframe tbody tr th:only-of-type {\n",
              "        vertical-align: middle;\n",
              "    }\n",
              "\n",
              "    .dataframe tbody tr th {\n",
              "        vertical-align: top;\n",
              "    }\n",
              "\n",
              "    .dataframe thead th {\n",
              "        text-align: right;\n",
              "    }\n",
              "</style>\n",
              "<table border=\"1\" class=\"dataframe\">\n",
              "  <thead>\n",
              "    <tr style=\"text-align: right;\">\n",
              "      <th></th>\n",
              "      <th>Quantity</th>\n",
              "      <th>UnitPrice</th>\n",
              "      <th>CustomerID</th>\n",
              "    </tr>\n",
              "  </thead>\n",
              "  <tbody>\n",
              "    <tr>\n",
              "      <th>count</th>\n",
              "      <td>495478.000000</td>\n",
              "      <td>495478.000000</td>\n",
              "      <td>361878.000000</td>\n",
              "    </tr>\n",
              "    <tr>\n",
              "      <th>mean</th>\n",
              "      <td>8.605486</td>\n",
              "      <td>4.532422</td>\n",
              "      <td>15547.871368</td>\n",
              "    </tr>\n",
              "    <tr>\n",
              "      <th>std</th>\n",
              "      <td>227.588756</td>\n",
              "      <td>99.315438</td>\n",
              "      <td>1594.402590</td>\n",
              "    </tr>\n",
              "    <tr>\n",
              "      <th>min</th>\n",
              "      <td>-80995.000000</td>\n",
              "      <td>-11062.060000</td>\n",
              "      <td>12346.000000</td>\n",
              "    </tr>\n",
              "    <tr>\n",
              "      <th>25%</th>\n",
              "      <td>1.000000</td>\n",
              "      <td>1.250000</td>\n",
              "      <td>14194.000000</td>\n",
              "    </tr>\n",
              "    <tr>\n",
              "      <th>50%</th>\n",
              "      <td>3.000000</td>\n",
              "      <td>2.100000</td>\n",
              "      <td>15514.000000</td>\n",
              "    </tr>\n",
              "    <tr>\n",
              "      <th>75%</th>\n",
              "      <td>10.000000</td>\n",
              "      <td>4.130000</td>\n",
              "      <td>16931.000000</td>\n",
              "    </tr>\n",
              "    <tr>\n",
              "      <th>max</th>\n",
              "      <td>80995.000000</td>\n",
              "      <td>38970.000000</td>\n",
              "      <td>18287.000000</td>\n",
              "    </tr>\n",
              "  </tbody>\n",
              "</table>\n",
              "</div>"
            ],
            "text/plain": [
              "            Quantity      UnitPrice     CustomerID\n",
              "count  495478.000000  495478.000000  361878.000000\n",
              "mean        8.605486       4.532422   15547.871368\n",
              "std       227.588756      99.315438    1594.402590\n",
              "min    -80995.000000  -11062.060000   12346.000000\n",
              "25%         1.000000       1.250000   14194.000000\n",
              "50%         3.000000       2.100000   15514.000000\n",
              "75%        10.000000       4.130000   16931.000000\n",
              "max     80995.000000   38970.000000   18287.000000"
            ]
          },
          "metadata": {
            "tags": []
          },
          "execution_count": 8
        }
      ]
    },
    {
      "cell_type": "code",
      "metadata": {
        "colab": {
          "base_uri": "https://localhost:8080/"
        },
        "id": "w4Z3XITdMxY1",
        "outputId": "0bf12252-79fb-406c-a757-858c14e9872f"
      },
      "source": [
        "uk_data = uk_data[(uk_data['Quantity']>0)]\n",
        "uk_data.info()"
      ],
      "execution_count": 9,
      "outputs": [
        {
          "output_type": "stream",
          "text": [
            "<class 'pandas.core.frame.DataFrame'>\n",
            "Int64Index: 486286 entries, 0 to 541893\n",
            "Data columns (total 8 columns):\n",
            " #   Column       Non-Null Count   Dtype         \n",
            "---  ------       --------------   -----         \n",
            " 0   InvoiceNo    486286 non-null  object        \n",
            " 1   StockCode    486286 non-null  object        \n",
            " 2   Description  485694 non-null  object        \n",
            " 3   Quantity     486286 non-null  int64         \n",
            " 4   InvoiceDate  486286 non-null  datetime64[ns]\n",
            " 5   UnitPrice    486286 non-null  float64       \n",
            " 6   CustomerID   354345 non-null  float64       \n",
            " 7   Country      486286 non-null  object        \n",
            "dtypes: datetime64[ns](1), float64(2), int64(1), object(4)\n",
            "memory usage: 33.4+ MB\n"
          ],
          "name": "stdout"
        }
      ]
    },
    {
      "cell_type": "markdown",
      "metadata": {
        "id": "j7TkyvWZTmYI"
      },
      "source": [
        "# FILTERING REQUIRED COLUMNS"
      ]
    },
    {
      "cell_type": "code",
      "metadata": {
        "id": "us0wka_eM0Ru"
      },
      "source": [
        "uk_data=uk_data[['CustomerID','InvoiceDate','InvoiceNo','Quantity','UnitPrice']]"
      ],
      "execution_count": 11,
      "outputs": []
    },
    {
      "cell_type": "code",
      "metadata": {
        "id": "PP8yLLTRM55G"
      },
      "source": [
        "#Calulate total purchase\n",
        "uk_data['TotalPurchase'] = uk_data['Quantity'] * uk_data['UnitPrice']"
      ],
      "execution_count": 12,
      "outputs": []
    },
    {
      "cell_type": "code",
      "metadata": {
        "id": "6lG6_w7SM629"
      },
      "source": [
        "uk_data_group=uk_data.groupby('CustomerID').agg({'InvoiceDate': lambda date: (date.max() - date.min()).days,\n",
        "                                        'InvoiceNo': lambda num: len(num),\n",
        "                                        'Quantity': lambda quant: quant.sum(),\n",
        "                                        'TotalPurchase': lambda price: price.sum()})"
      ],
      "execution_count": 13,
      "outputs": []
    },
    {
      "cell_type": "code",
      "metadata": {
        "colab": {
          "base_uri": "https://localhost:8080/",
          "height": 234
        },
        "id": "hlEgXkY2M-K1",
        "outputId": "9b4c07cc-1c0d-4eb2-d0b2-26bd22516b58"
      },
      "source": [
        "uk_data_group.head()"
      ],
      "execution_count": 14,
      "outputs": [
        {
          "output_type": "execute_result",
          "data": {
            "text/html": [
              "<div>\n",
              "<style scoped>\n",
              "    .dataframe tbody tr th:only-of-type {\n",
              "        vertical-align: middle;\n",
              "    }\n",
              "\n",
              "    .dataframe tbody tr th {\n",
              "        vertical-align: top;\n",
              "    }\n",
              "\n",
              "    .dataframe thead th {\n",
              "        text-align: right;\n",
              "    }\n",
              "</style>\n",
              "<table border=\"1\" class=\"dataframe\">\n",
              "  <thead>\n",
              "    <tr style=\"text-align: right;\">\n",
              "      <th></th>\n",
              "      <th>InvoiceDate</th>\n",
              "      <th>InvoiceNo</th>\n",
              "      <th>Quantity</th>\n",
              "      <th>TotalPurchase</th>\n",
              "    </tr>\n",
              "    <tr>\n",
              "      <th>CustomerID</th>\n",
              "      <th></th>\n",
              "      <th></th>\n",
              "      <th></th>\n",
              "      <th></th>\n",
              "    </tr>\n",
              "  </thead>\n",
              "  <tbody>\n",
              "    <tr>\n",
              "      <th>12346.0</th>\n",
              "      <td>0</td>\n",
              "      <td>1</td>\n",
              "      <td>74215</td>\n",
              "      <td>77183.60</td>\n",
              "    </tr>\n",
              "    <tr>\n",
              "      <th>12747.0</th>\n",
              "      <td>366</td>\n",
              "      <td>103</td>\n",
              "      <td>1275</td>\n",
              "      <td>4196.01</td>\n",
              "    </tr>\n",
              "    <tr>\n",
              "      <th>12748.0</th>\n",
              "      <td>372</td>\n",
              "      <td>4596</td>\n",
              "      <td>25748</td>\n",
              "      <td>33719.73</td>\n",
              "    </tr>\n",
              "    <tr>\n",
              "      <th>12749.0</th>\n",
              "      <td>209</td>\n",
              "      <td>199</td>\n",
              "      <td>1471</td>\n",
              "      <td>4090.88</td>\n",
              "    </tr>\n",
              "    <tr>\n",
              "      <th>12820.0</th>\n",
              "      <td>323</td>\n",
              "      <td>59</td>\n",
              "      <td>722</td>\n",
              "      <td>942.34</td>\n",
              "    </tr>\n",
              "  </tbody>\n",
              "</table>\n",
              "</div>"
            ],
            "text/plain": [
              "            InvoiceDate  InvoiceNo  Quantity  TotalPurchase\n",
              "CustomerID                                                 \n",
              "12346.0               0          1     74215       77183.60\n",
              "12747.0             366        103      1275        4196.01\n",
              "12748.0             372       4596     25748       33719.73\n",
              "12749.0             209        199      1471        4090.88\n",
              "12820.0             323         59       722         942.34"
            ]
          },
          "metadata": {
            "tags": []
          },
          "execution_count": 14
        }
      ]
    },
    {
      "cell_type": "code",
      "metadata": {
        "colab": {
          "base_uri": "https://localhost:8080/",
          "height": 234
        },
        "id": "KDgevbvKNCZV",
        "outputId": "3a89b54c-4cc5-4bd4-933a-e42aa76c6cb4"
      },
      "source": [
        "# Change the name of columns\n",
        "uk_data_group.columns=['num_days','num_transactions','num_units','spent_money']\n",
        "uk_data_group.head()"
      ],
      "execution_count": 15,
      "outputs": [
        {
          "output_type": "execute_result",
          "data": {
            "text/html": [
              "<div>\n",
              "<style scoped>\n",
              "    .dataframe tbody tr th:only-of-type {\n",
              "        vertical-align: middle;\n",
              "    }\n",
              "\n",
              "    .dataframe tbody tr th {\n",
              "        vertical-align: top;\n",
              "    }\n",
              "\n",
              "    .dataframe thead th {\n",
              "        text-align: right;\n",
              "    }\n",
              "</style>\n",
              "<table border=\"1\" class=\"dataframe\">\n",
              "  <thead>\n",
              "    <tr style=\"text-align: right;\">\n",
              "      <th></th>\n",
              "      <th>num_days</th>\n",
              "      <th>num_transactions</th>\n",
              "      <th>num_units</th>\n",
              "      <th>spent_money</th>\n",
              "    </tr>\n",
              "    <tr>\n",
              "      <th>CustomerID</th>\n",
              "      <th></th>\n",
              "      <th></th>\n",
              "      <th></th>\n",
              "      <th></th>\n",
              "    </tr>\n",
              "  </thead>\n",
              "  <tbody>\n",
              "    <tr>\n",
              "      <th>12346.0</th>\n",
              "      <td>0</td>\n",
              "      <td>1</td>\n",
              "      <td>74215</td>\n",
              "      <td>77183.60</td>\n",
              "    </tr>\n",
              "    <tr>\n",
              "      <th>12747.0</th>\n",
              "      <td>366</td>\n",
              "      <td>103</td>\n",
              "      <td>1275</td>\n",
              "      <td>4196.01</td>\n",
              "    </tr>\n",
              "    <tr>\n",
              "      <th>12748.0</th>\n",
              "      <td>372</td>\n",
              "      <td>4596</td>\n",
              "      <td>25748</td>\n",
              "      <td>33719.73</td>\n",
              "    </tr>\n",
              "    <tr>\n",
              "      <th>12749.0</th>\n",
              "      <td>209</td>\n",
              "      <td>199</td>\n",
              "      <td>1471</td>\n",
              "      <td>4090.88</td>\n",
              "    </tr>\n",
              "    <tr>\n",
              "      <th>12820.0</th>\n",
              "      <td>323</td>\n",
              "      <td>59</td>\n",
              "      <td>722</td>\n",
              "      <td>942.34</td>\n",
              "    </tr>\n",
              "  </tbody>\n",
              "</table>\n",
              "</div>"
            ],
            "text/plain": [
              "            num_days  num_transactions  num_units  spent_money\n",
              "CustomerID                                                    \n",
              "12346.0            0                 1      74215     77183.60\n",
              "12747.0          366               103       1275      4196.01\n",
              "12748.0          372              4596      25748     33719.73\n",
              "12749.0          209               199       1471      4090.88\n",
              "12820.0          323                59        722       942.34"
            ]
          },
          "metadata": {
            "tags": []
          },
          "execution_count": 15
        }
      ]
    },
    {
      "cell_type": "markdown",
      "metadata": {
        "id": "J45w-UldTzFg"
      },
      "source": [
        "# CALCULATE CLTV USING THE FORMULA :"
      ]
    },
    {
      "cell_type": "markdown",
      "metadata": {
        "id": "nb7vFIe5NMa2"
      },
      "source": [
        "CLTV = ((Average Order Value x Purchase Frequency)/Churn Rate) x Profit margin.\n",
        "\n",
        " Customer Value = Average Order Value * Purchase Frequency"
      ]
    },
    {
      "cell_type": "markdown",
      "metadata": {
        "id": "rryDVQ7PUL3d"
      },
      "source": [
        "# CALCULATE AVERAGE ORDER VALUE"
      ]
    },
    {
      "cell_type": "markdown",
      "metadata": {
        "id": "eqUWXz54UZFr"
      },
      "source": [
        "The Average Order value is the ratio of your total revenue and the total number of orders. AOV represents the mean amount of revenue that the customer spends on an order."
      ]
    },
    {
      "cell_type": "code",
      "metadata": {
        "id": "dMjPEDVYNErN"
      },
      "source": [
        "#Average Order Value\n",
        "uk_data_group['avg_order_value']=uk_data_group['spent_money']/uk_data_group['num_transactions']"
      ],
      "execution_count": 17,
      "outputs": []
    },
    {
      "cell_type": "code",
      "metadata": {
        "colab": {
          "base_uri": "https://localhost:8080/",
          "height": 234
        },
        "id": "8zhrXONvNYLt",
        "outputId": "01ec2598-6e3c-47b6-c5cd-8f35a497ac6f"
      },
      "source": [
        "uk_data_group.head()"
      ],
      "execution_count": 18,
      "outputs": [
        {
          "output_type": "execute_result",
          "data": {
            "text/html": [
              "<div>\n",
              "<style scoped>\n",
              "    .dataframe tbody tr th:only-of-type {\n",
              "        vertical-align: middle;\n",
              "    }\n",
              "\n",
              "    .dataframe tbody tr th {\n",
              "        vertical-align: top;\n",
              "    }\n",
              "\n",
              "    .dataframe thead th {\n",
              "        text-align: right;\n",
              "    }\n",
              "</style>\n",
              "<table border=\"1\" class=\"dataframe\">\n",
              "  <thead>\n",
              "    <tr style=\"text-align: right;\">\n",
              "      <th></th>\n",
              "      <th>num_days</th>\n",
              "      <th>num_transactions</th>\n",
              "      <th>num_units</th>\n",
              "      <th>spent_money</th>\n",
              "      <th>avg_order_value</th>\n",
              "    </tr>\n",
              "    <tr>\n",
              "      <th>CustomerID</th>\n",
              "      <th></th>\n",
              "      <th></th>\n",
              "      <th></th>\n",
              "      <th></th>\n",
              "      <th></th>\n",
              "    </tr>\n",
              "  </thead>\n",
              "  <tbody>\n",
              "    <tr>\n",
              "      <th>12346.0</th>\n",
              "      <td>0</td>\n",
              "      <td>1</td>\n",
              "      <td>74215</td>\n",
              "      <td>77183.60</td>\n",
              "      <td>77183.600000</td>\n",
              "    </tr>\n",
              "    <tr>\n",
              "      <th>12747.0</th>\n",
              "      <td>366</td>\n",
              "      <td>103</td>\n",
              "      <td>1275</td>\n",
              "      <td>4196.01</td>\n",
              "      <td>40.737961</td>\n",
              "    </tr>\n",
              "    <tr>\n",
              "      <th>12748.0</th>\n",
              "      <td>372</td>\n",
              "      <td>4596</td>\n",
              "      <td>25748</td>\n",
              "      <td>33719.73</td>\n",
              "      <td>7.336756</td>\n",
              "    </tr>\n",
              "    <tr>\n",
              "      <th>12749.0</th>\n",
              "      <td>209</td>\n",
              "      <td>199</td>\n",
              "      <td>1471</td>\n",
              "      <td>4090.88</td>\n",
              "      <td>20.557186</td>\n",
              "    </tr>\n",
              "    <tr>\n",
              "      <th>12820.0</th>\n",
              "      <td>323</td>\n",
              "      <td>59</td>\n",
              "      <td>722</td>\n",
              "      <td>942.34</td>\n",
              "      <td>15.971864</td>\n",
              "    </tr>\n",
              "  </tbody>\n",
              "</table>\n",
              "</div>"
            ],
            "text/plain": [
              "            num_days  num_transactions  num_units  spent_money  avg_order_value\n",
              "CustomerID                                                                     \n",
              "12346.0            0                 1      74215     77183.60     77183.600000\n",
              "12747.0          366               103       1275      4196.01        40.737961\n",
              "12748.0          372              4596      25748     33719.73         7.336756\n",
              "12749.0          209               199       1471      4090.88        20.557186\n",
              "12820.0          323                59        722       942.34        15.971864"
            ]
          },
          "metadata": {
            "tags": []
          },
          "execution_count": 18
        }
      ]
    },
    {
      "cell_type": "markdown",
      "metadata": {
        "id": "5MDMODpzUcS1"
      },
      "source": [
        "# CALCULATE PURCHASE FREQUENCY"
      ]
    },
    {
      "cell_type": "markdown",
      "metadata": {
        "id": "DUcWPiRGVBCz"
      },
      "source": [
        "Purchase Frequency is the ratio of the total number of orders and the total number of customer. It represents the average number of orders placed by each customer."
      ]
    },
    {
      "cell_type": "code",
      "metadata": {
        "id": "CZuORZW5NZz0"
      },
      "source": [
        "purchase_frequency=sum(uk_data_group['num_transactions'])/uk_data_group.shape[0]"
      ],
      "execution_count": 19,
      "outputs": []
    },
    {
      "cell_type": "markdown",
      "metadata": {
        "id": "5V6KQMDcVONz"
      },
      "source": [
        "# Calculate Repeat Rate and Churn Rate"
      ]
    },
    {
      "cell_type": "code",
      "metadata": {
        "id": "op0qZSntNc5V"
      },
      "source": [
        "# Repeat Rate\n",
        "repeat_rate=uk_data_group[uk_data_group.num_transactions > 1].shape[0]/uk_data_group.shape[0]"
      ],
      "execution_count": 20,
      "outputs": []
    },
    {
      "cell_type": "code",
      "metadata": {
        "id": "Ri7AGIe_Nfej"
      },
      "source": [
        "#Churn Rate\n",
        "churn_rate=1-repeat_rate"
      ],
      "execution_count": 21,
      "outputs": []
    },
    {
      "cell_type": "code",
      "metadata": {
        "colab": {
          "base_uri": "https://localhost:8080/"
        },
        "id": "O0mb_R9sNflU",
        "outputId": "747e793e-2f2e-41d5-b951-b73c1477a83a"
      },
      "source": [
        "purchase_frequency,repeat_rate,churn_rate"
      ],
      "execution_count": 22,
      "outputs": [
        {
          "output_type": "execute_result",
          "data": {
            "text/plain": [
              "(90.37107880642694, 0.9818923743942872, 0.018107625605712774)"
            ]
          },
          "metadata": {
            "tags": []
          },
          "execution_count": 22
        }
      ]
    },
    {
      "cell_type": "code",
      "metadata": {
        "id": "C-540w4qNk-e"
      },
      "source": [
        "# Profit Margin\n",
        "uk_data_group['profit_margin']=uk_data_group['spent_money']*0.05"
      ],
      "execution_count": 23,
      "outputs": []
    },
    {
      "cell_type": "code",
      "metadata": {
        "colab": {
          "base_uri": "https://localhost:8080/",
          "height": 234
        },
        "id": "65zeHIHONn-N",
        "outputId": "682a88cc-fa35-42a9-f558-e702a9478b6b"
      },
      "source": [
        "uk_data_group.head()"
      ],
      "execution_count": 24,
      "outputs": [
        {
          "output_type": "execute_result",
          "data": {
            "text/html": [
              "<div>\n",
              "<style scoped>\n",
              "    .dataframe tbody tr th:only-of-type {\n",
              "        vertical-align: middle;\n",
              "    }\n",
              "\n",
              "    .dataframe tbody tr th {\n",
              "        vertical-align: top;\n",
              "    }\n",
              "\n",
              "    .dataframe thead th {\n",
              "        text-align: right;\n",
              "    }\n",
              "</style>\n",
              "<table border=\"1\" class=\"dataframe\">\n",
              "  <thead>\n",
              "    <tr style=\"text-align: right;\">\n",
              "      <th></th>\n",
              "      <th>num_days</th>\n",
              "      <th>num_transactions</th>\n",
              "      <th>num_units</th>\n",
              "      <th>spent_money</th>\n",
              "      <th>avg_order_value</th>\n",
              "      <th>profit_margin</th>\n",
              "    </tr>\n",
              "    <tr>\n",
              "      <th>CustomerID</th>\n",
              "      <th></th>\n",
              "      <th></th>\n",
              "      <th></th>\n",
              "      <th></th>\n",
              "      <th></th>\n",
              "      <th></th>\n",
              "    </tr>\n",
              "  </thead>\n",
              "  <tbody>\n",
              "    <tr>\n",
              "      <th>12346.0</th>\n",
              "      <td>0</td>\n",
              "      <td>1</td>\n",
              "      <td>74215</td>\n",
              "      <td>77183.60</td>\n",
              "      <td>77183.600000</td>\n",
              "      <td>3859.1800</td>\n",
              "    </tr>\n",
              "    <tr>\n",
              "      <th>12747.0</th>\n",
              "      <td>366</td>\n",
              "      <td>103</td>\n",
              "      <td>1275</td>\n",
              "      <td>4196.01</td>\n",
              "      <td>40.737961</td>\n",
              "      <td>209.8005</td>\n",
              "    </tr>\n",
              "    <tr>\n",
              "      <th>12748.0</th>\n",
              "      <td>372</td>\n",
              "      <td>4596</td>\n",
              "      <td>25748</td>\n",
              "      <td>33719.73</td>\n",
              "      <td>7.336756</td>\n",
              "      <td>1685.9865</td>\n",
              "    </tr>\n",
              "    <tr>\n",
              "      <th>12749.0</th>\n",
              "      <td>209</td>\n",
              "      <td>199</td>\n",
              "      <td>1471</td>\n",
              "      <td>4090.88</td>\n",
              "      <td>20.557186</td>\n",
              "      <td>204.5440</td>\n",
              "    </tr>\n",
              "    <tr>\n",
              "      <th>12820.0</th>\n",
              "      <td>323</td>\n",
              "      <td>59</td>\n",
              "      <td>722</td>\n",
              "      <td>942.34</td>\n",
              "      <td>15.971864</td>\n",
              "      <td>47.1170</td>\n",
              "    </tr>\n",
              "  </tbody>\n",
              "</table>\n",
              "</div>"
            ],
            "text/plain": [
              "            num_days  num_transactions  ...  avg_order_value  profit_margin\n",
              "CustomerID                              ...                                \n",
              "12346.0            0                 1  ...     77183.600000      3859.1800\n",
              "12747.0          366               103  ...        40.737961       209.8005\n",
              "12748.0          372              4596  ...         7.336756      1685.9865\n",
              "12749.0          209               199  ...        20.557186       204.5440\n",
              "12820.0          323                59  ...        15.971864        47.1170\n",
              "\n",
              "[5 rows x 6 columns]"
            ]
          },
          "metadata": {
            "tags": []
          },
          "execution_count": 24
        }
      ]
    },
    {
      "cell_type": "code",
      "metadata": {
        "id": "uQYZFXenNq39"
      },
      "source": [
        "# Customer Value\n",
        "uk_data_group['CLV']=(uk_data_group['avg_order_value']*purchase_frequency)/churn_rate"
      ],
      "execution_count": 25,
      "outputs": []
    },
    {
      "cell_type": "code",
      "metadata": {
        "id": "VwvbIlNbNxbl"
      },
      "source": [
        "#Customer Lifetime Value\n",
        "uk_data_group['cust_lifetime_value']=uk_data_group['CLV']*uk_data_group['profit_margin']"
      ],
      "execution_count": 26,
      "outputs": []
    },
    {
      "cell_type": "code",
      "metadata": {
        "colab": {
          "base_uri": "https://localhost:8080/",
          "height": 234
        },
        "id": "7BDhCrZeNyj3",
        "outputId": "4505336f-4317-4107-8223-47b0444a0c74"
      },
      "source": [
        "uk_data_group.head()"
      ],
      "execution_count": 27,
      "outputs": [
        {
          "output_type": "execute_result",
          "data": {
            "text/html": [
              "<div>\n",
              "<style scoped>\n",
              "    .dataframe tbody tr th:only-of-type {\n",
              "        vertical-align: middle;\n",
              "    }\n",
              "\n",
              "    .dataframe tbody tr th {\n",
              "        vertical-align: top;\n",
              "    }\n",
              "\n",
              "    .dataframe thead th {\n",
              "        text-align: right;\n",
              "    }\n",
              "</style>\n",
              "<table border=\"1\" class=\"dataframe\">\n",
              "  <thead>\n",
              "    <tr style=\"text-align: right;\">\n",
              "      <th></th>\n",
              "      <th>num_days</th>\n",
              "      <th>num_transactions</th>\n",
              "      <th>num_units</th>\n",
              "      <th>spent_money</th>\n",
              "      <th>avg_order_value</th>\n",
              "      <th>profit_margin</th>\n",
              "      <th>CLV</th>\n",
              "      <th>cust_lifetime_value</th>\n",
              "    </tr>\n",
              "    <tr>\n",
              "      <th>CustomerID</th>\n",
              "      <th></th>\n",
              "      <th></th>\n",
              "      <th></th>\n",
              "      <th></th>\n",
              "      <th></th>\n",
              "      <th></th>\n",
              "      <th></th>\n",
              "      <th></th>\n",
              "    </tr>\n",
              "  </thead>\n",
              "  <tbody>\n",
              "    <tr>\n",
              "      <th>12346.0</th>\n",
              "      <td>0</td>\n",
              "      <td>1</td>\n",
              "      <td>74215</td>\n",
              "      <td>77183.60</td>\n",
              "      <td>77183.600000</td>\n",
              "      <td>3859.1800</td>\n",
              "      <td>3.852060e+08</td>\n",
              "      <td>1.486579e+12</td>\n",
              "    </tr>\n",
              "    <tr>\n",
              "      <th>12747.0</th>\n",
              "      <td>366</td>\n",
              "      <td>103</td>\n",
              "      <td>1275</td>\n",
              "      <td>4196.01</td>\n",
              "      <td>40.737961</td>\n",
              "      <td>209.8005</td>\n",
              "      <td>2.033140e+05</td>\n",
              "      <td>4.265538e+07</td>\n",
              "    </tr>\n",
              "    <tr>\n",
              "      <th>12748.0</th>\n",
              "      <td>372</td>\n",
              "      <td>4596</td>\n",
              "      <td>25748</td>\n",
              "      <td>33719.73</td>\n",
              "      <td>7.336756</td>\n",
              "      <td>1685.9865</td>\n",
              "      <td>3.661610e+04</td>\n",
              "      <td>6.173424e+07</td>\n",
              "    </tr>\n",
              "    <tr>\n",
              "      <th>12749.0</th>\n",
              "      <td>209</td>\n",
              "      <td>199</td>\n",
              "      <td>1471</td>\n",
              "      <td>4090.88</td>\n",
              "      <td>20.557186</td>\n",
              "      <td>204.5440</td>\n",
              "      <td>1.025963e+05</td>\n",
              "      <td>2.098545e+07</td>\n",
              "    </tr>\n",
              "    <tr>\n",
              "      <th>12820.0</th>\n",
              "      <td>323</td>\n",
              "      <td>59</td>\n",
              "      <td>722</td>\n",
              "      <td>942.34</td>\n",
              "      <td>15.971864</td>\n",
              "      <td>47.1170</td>\n",
              "      <td>7.971198e+04</td>\n",
              "      <td>3.755789e+06</td>\n",
              "    </tr>\n",
              "  </tbody>\n",
              "</table>\n",
              "</div>"
            ],
            "text/plain": [
              "            num_days  num_transactions  ...           CLV  cust_lifetime_value\n",
              "CustomerID                              ...                                   \n",
              "12346.0            0                 1  ...  3.852060e+08         1.486579e+12\n",
              "12747.0          366               103  ...  2.033140e+05         4.265538e+07\n",
              "12748.0          372              4596  ...  3.661610e+04         6.173424e+07\n",
              "12749.0          209               199  ...  1.025963e+05         2.098545e+07\n",
              "12820.0          323                59  ...  7.971198e+04         3.755789e+06\n",
              "\n",
              "[5 rows x 8 columns]"
            ]
          },
          "metadata": {
            "tags": []
          },
          "execution_count": 27
        }
      ]
    },
    {
      "cell_type": "markdown",
      "metadata": {
        "id": "J0qG5SuvWPi1"
      },
      "source": [
        "# Prediction Model for CLTV"
      ]
    },
    {
      "cell_type": "code",
      "metadata": {
        "colab": {
          "base_uri": "https://localhost:8080/",
          "height": 203
        },
        "id": "XuIFP8J5N3ld",
        "outputId": "3dbaf0c1-1ba7-430c-c7a3-18ac92091c5e"
      },
      "source": [
        "uk_data.head()"
      ],
      "execution_count": 28,
      "outputs": [
        {
          "output_type": "execute_result",
          "data": {
            "text/html": [
              "<div>\n",
              "<style scoped>\n",
              "    .dataframe tbody tr th:only-of-type {\n",
              "        vertical-align: middle;\n",
              "    }\n",
              "\n",
              "    .dataframe tbody tr th {\n",
              "        vertical-align: top;\n",
              "    }\n",
              "\n",
              "    .dataframe thead th {\n",
              "        text-align: right;\n",
              "    }\n",
              "</style>\n",
              "<table border=\"1\" class=\"dataframe\">\n",
              "  <thead>\n",
              "    <tr style=\"text-align: right;\">\n",
              "      <th></th>\n",
              "      <th>CustomerID</th>\n",
              "      <th>InvoiceDate</th>\n",
              "      <th>InvoiceNo</th>\n",
              "      <th>Quantity</th>\n",
              "      <th>UnitPrice</th>\n",
              "      <th>TotalPurchase</th>\n",
              "    </tr>\n",
              "  </thead>\n",
              "  <tbody>\n",
              "    <tr>\n",
              "      <th>0</th>\n",
              "      <td>17850.0</td>\n",
              "      <td>2010-12-01 08:26:00</td>\n",
              "      <td>536365</td>\n",
              "      <td>6</td>\n",
              "      <td>2.55</td>\n",
              "      <td>15.30</td>\n",
              "    </tr>\n",
              "    <tr>\n",
              "      <th>1</th>\n",
              "      <td>17850.0</td>\n",
              "      <td>2010-12-01 08:26:00</td>\n",
              "      <td>536365</td>\n",
              "      <td>6</td>\n",
              "      <td>3.39</td>\n",
              "      <td>20.34</td>\n",
              "    </tr>\n",
              "    <tr>\n",
              "      <th>2</th>\n",
              "      <td>17850.0</td>\n",
              "      <td>2010-12-01 08:26:00</td>\n",
              "      <td>536365</td>\n",
              "      <td>8</td>\n",
              "      <td>2.75</td>\n",
              "      <td>22.00</td>\n",
              "    </tr>\n",
              "    <tr>\n",
              "      <th>3</th>\n",
              "      <td>17850.0</td>\n",
              "      <td>2010-12-01 08:26:00</td>\n",
              "      <td>536365</td>\n",
              "      <td>6</td>\n",
              "      <td>3.39</td>\n",
              "      <td>20.34</td>\n",
              "    </tr>\n",
              "    <tr>\n",
              "      <th>4</th>\n",
              "      <td>17850.0</td>\n",
              "      <td>2010-12-01 08:26:00</td>\n",
              "      <td>536365</td>\n",
              "      <td>6</td>\n",
              "      <td>3.39</td>\n",
              "      <td>20.34</td>\n",
              "    </tr>\n",
              "  </tbody>\n",
              "</table>\n",
              "</div>"
            ],
            "text/plain": [
              "   CustomerID         InvoiceDate InvoiceNo  Quantity  UnitPrice  TotalPurchase\n",
              "0     17850.0 2010-12-01 08:26:00    536365         6       2.55          15.30\n",
              "1     17850.0 2010-12-01 08:26:00    536365         6       3.39          20.34\n",
              "2     17850.0 2010-12-01 08:26:00    536365         8       2.75          22.00\n",
              "3     17850.0 2010-12-01 08:26:00    536365         6       3.39          20.34\n",
              "4     17850.0 2010-12-01 08:26:00    536365         6       3.39          20.34"
            ]
          },
          "metadata": {
            "tags": []
          },
          "execution_count": 28
        }
      ]
    },
    {
      "cell_type": "code",
      "metadata": {
        "colab": {
          "base_uri": "https://localhost:8080/",
          "height": 286
        },
        "id": "DrQNfZLIXXJS",
        "outputId": "24bdf4ad-a0cb-48bb-cd8f-bc47f83ed281"
      },
      "source": [
        "sns.heatmap(uk_data.corr(),annot=True)"
      ],
      "execution_count": 50,
      "outputs": [
        {
          "output_type": "execute_result",
          "data": {
            "text/plain": [
              "<matplotlib.axes._subplots.AxesSubplot at 0x7f518ecda7d0>"
            ]
          },
          "metadata": {
            "tags": []
          },
          "execution_count": 50
        },
        {
          "output_type": "display_data",
          "data": {
            "image/png": "[encoded data removed]",
            "text/plain": [
              "<Figure size 432x288 with 2 Axes>"
            ]
          },
          "metadata": {
            "tags": [],
            "needs_background": "light"
          }
        }
      ]
    },
    {
      "cell_type": "code",
      "metadata": {
        "id": "wak1K0sBN7eF"
      },
      "source": [
        "uk_data['month_yr'] = uk_data['InvoiceDate'].apply(lambda x: x.strftime('%b-%Y'))"
      ],
      "execution_count": 29,
      "outputs": []
    },
    {
      "cell_type": "code",
      "metadata": {
        "colab": {
          "base_uri": "https://localhost:8080/",
          "height": 203
        },
        "id": "kTgcWexgOAYF",
        "outputId": "26790e4d-2431-4f89-cf84-ef56e00dc71f"
      },
      "source": [
        "uk_data.head()"
      ],
      "execution_count": 30,
      "outputs": [
        {
          "output_type": "execute_result",
          "data": {
            "text/html": [
              "<div>\n",
              "<style scoped>\n",
              "    .dataframe tbody tr th:only-of-type {\n",
              "        vertical-align: middle;\n",
              "    }\n",
              "\n",
              "    .dataframe tbody tr th {\n",
              "        vertical-align: top;\n",
              "    }\n",
              "\n",
              "    .dataframe thead th {\n",
              "        text-align: right;\n",
              "    }\n",
              "</style>\n",
              "<table border=\"1\" class=\"dataframe\">\n",
              "  <thead>\n",
              "    <tr style=\"text-align: right;\">\n",
              "      <th></th>\n",
              "      <th>CustomerID</th>\n",
              "      <th>InvoiceDate</th>\n",
              "      <th>InvoiceNo</th>\n",
              "      <th>Quantity</th>\n",
              "      <th>UnitPrice</th>\n",
              "      <th>TotalPurchase</th>\n",
              "      <th>month_yr</th>\n",
              "    </tr>\n",
              "  </thead>\n",
              "  <tbody>\n",
              "    <tr>\n",
              "      <th>0</th>\n",
              "      <td>17850.0</td>\n",
              "      <td>2010-12-01 08:26:00</td>\n",
              "      <td>536365</td>\n",
              "      <td>6</td>\n",
              "      <td>2.55</td>\n",
              "      <td>15.30</td>\n",
              "      <td>Dec-2010</td>\n",
              "    </tr>\n",
              "    <tr>\n",
              "      <th>1</th>\n",
              "      <td>17850.0</td>\n",
              "      <td>2010-12-01 08:26:00</td>\n",
              "      <td>536365</td>\n",
              "      <td>6</td>\n",
              "      <td>3.39</td>\n",
              "      <td>20.34</td>\n",
              "      <td>Dec-2010</td>\n",
              "    </tr>\n",
              "    <tr>\n",
              "      <th>2</th>\n",
              "      <td>17850.0</td>\n",
              "      <td>2010-12-01 08:26:00</td>\n",
              "      <td>536365</td>\n",
              "      <td>8</td>\n",
              "      <td>2.75</td>\n",
              "      <td>22.00</td>\n",
              "      <td>Dec-2010</td>\n",
              "    </tr>\n",
              "    <tr>\n",
              "      <th>3</th>\n",
              "      <td>17850.0</td>\n",
              "      <td>2010-12-01 08:26:00</td>\n",
              "      <td>536365</td>\n",
              "      <td>6</td>\n",
              "      <td>3.39</td>\n",
              "      <td>20.34</td>\n",
              "      <td>Dec-2010</td>\n",
              "    </tr>\n",
              "    <tr>\n",
              "      <th>4</th>\n",
              "      <td>17850.0</td>\n",
              "      <td>2010-12-01 08:26:00</td>\n",
              "      <td>536365</td>\n",
              "      <td>6</td>\n",
              "      <td>3.39</td>\n",
              "      <td>20.34</td>\n",
              "      <td>Dec-2010</td>\n",
              "    </tr>\n",
              "  </tbody>\n",
              "</table>\n",
              "</div>"
            ],
            "text/plain": [
              "   CustomerID         InvoiceDate InvoiceNo  ...  UnitPrice  TotalPurchase  month_yr\n",
              "0     17850.0 2010-12-01 08:26:00    536365  ...       2.55          15.30  Dec-2010\n",
              "1     17850.0 2010-12-01 08:26:00    536365  ...       3.39          20.34  Dec-2010\n",
              "2     17850.0 2010-12-01 08:26:00    536365  ...       2.75          22.00  Dec-2010\n",
              "3     17850.0 2010-12-01 08:26:00    536365  ...       3.39          20.34  Dec-2010\n",
              "4     17850.0 2010-12-01 08:26:00    536365  ...       3.39          20.34  Dec-2010\n",
              "\n",
              "[5 rows x 7 columns]"
            ]
          },
          "metadata": {
            "tags": []
          },
          "execution_count": 30
        }
      ]
    },
    {
      "cell_type": "code",
      "metadata": {
        "id": "nIJVxmCzOLjW"
      },
      "source": [
        "sale=uk_data.pivot_table(index=['CustomerID'],columns=['month_yr'],values='TotalPurchase',aggfunc='sum',fill_value=0).reset_index()"
      ],
      "execution_count": 31,
      "outputs": []
    },
    {
      "cell_type": "code",
      "metadata": {
        "colab": {
          "base_uri": "https://localhost:8080/",
          "height": 220
        },
        "id": "2M1ccSb8OM0d",
        "outputId": "47b3525f-291f-4d2e-fce9-6d8960adceb0"
      },
      "source": [
        "sale.head()"
      ],
      "execution_count": 32,
      "outputs": [
        {
          "output_type": "execute_result",
          "data": {
            "text/html": [
              "<div>\n",
              "<style scoped>\n",
              "    .dataframe tbody tr th:only-of-type {\n",
              "        vertical-align: middle;\n",
              "    }\n",
              "\n",
              "    .dataframe tbody tr th {\n",
              "        vertical-align: top;\n",
              "    }\n",
              "\n",
              "    .dataframe thead th {\n",
              "        text-align: right;\n",
              "    }\n",
              "</style>\n",
              "<table border=\"1\" class=\"dataframe\">\n",
              "  <thead>\n",
              "    <tr style=\"text-align: right;\">\n",
              "      <th>month_yr</th>\n",
              "      <th>CustomerID</th>\n",
              "      <th>Apr-2011</th>\n",
              "      <th>Aug-2011</th>\n",
              "      <th>Dec-2010</th>\n",
              "      <th>Dec-2011</th>\n",
              "      <th>Feb-2011</th>\n",
              "      <th>Jan-2011</th>\n",
              "      <th>Jul-2011</th>\n",
              "      <th>Jun-2011</th>\n",
              "      <th>Mar-2011</th>\n",
              "      <th>May-2011</th>\n",
              "      <th>Nov-2011</th>\n",
              "      <th>Oct-2011</th>\n",
              "      <th>Sep-2011</th>\n",
              "    </tr>\n",
              "  </thead>\n",
              "  <tbody>\n",
              "    <tr>\n",
              "      <th>0</th>\n",
              "      <td>12346.0</td>\n",
              "      <td>0.00</td>\n",
              "      <td>0.00</td>\n",
              "      <td>0.00</td>\n",
              "      <td>0.00</td>\n",
              "      <td>0.00</td>\n",
              "      <td>77183.60</td>\n",
              "      <td>0.00</td>\n",
              "      <td>0.00</td>\n",
              "      <td>0.00</td>\n",
              "      <td>0.00</td>\n",
              "      <td>0.00</td>\n",
              "      <td>0.00</td>\n",
              "      <td>0.00</td>\n",
              "    </tr>\n",
              "    <tr>\n",
              "      <th>1</th>\n",
              "      <td>12747.0</td>\n",
              "      <td>0.00</td>\n",
              "      <td>301.70</td>\n",
              "      <td>706.27</td>\n",
              "      <td>438.50</td>\n",
              "      <td>0.00</td>\n",
              "      <td>303.04</td>\n",
              "      <td>0.00</td>\n",
              "      <td>376.30</td>\n",
              "      <td>310.78</td>\n",
              "      <td>771.31</td>\n",
              "      <td>312.73</td>\n",
              "      <td>675.38</td>\n",
              "      <td>0.00</td>\n",
              "    </tr>\n",
              "    <tr>\n",
              "      <th>2</th>\n",
              "      <td>12748.0</td>\n",
              "      <td>1100.37</td>\n",
              "      <td>898.24</td>\n",
              "      <td>4228.13</td>\n",
              "      <td>1070.27</td>\n",
              "      <td>389.64</td>\n",
              "      <td>418.77</td>\n",
              "      <td>1113.27</td>\n",
              "      <td>2006.26</td>\n",
              "      <td>1179.37</td>\n",
              "      <td>2234.50</td>\n",
              "      <td>10639.23</td>\n",
              "      <td>2292.84</td>\n",
              "      <td>6148.84</td>\n",
              "    </tr>\n",
              "    <tr>\n",
              "      <th>3</th>\n",
              "      <td>12749.0</td>\n",
              "      <td>0.00</td>\n",
              "      <td>1896.13</td>\n",
              "      <td>0.00</td>\n",
              "      <td>763.06</td>\n",
              "      <td>0.00</td>\n",
              "      <td>0.00</td>\n",
              "      <td>0.00</td>\n",
              "      <td>0.00</td>\n",
              "      <td>0.00</td>\n",
              "      <td>859.10</td>\n",
              "      <td>572.59</td>\n",
              "      <td>0.00</td>\n",
              "      <td>0.00</td>\n",
              "    </tr>\n",
              "    <tr>\n",
              "      <th>4</th>\n",
              "      <td>12820.0</td>\n",
              "      <td>0.00</td>\n",
              "      <td>0.00</td>\n",
              "      <td>0.00</td>\n",
              "      <td>210.35</td>\n",
              "      <td>0.00</td>\n",
              "      <td>170.46</td>\n",
              "      <td>0.00</td>\n",
              "      <td>0.00</td>\n",
              "      <td>0.00</td>\n",
              "      <td>0.00</td>\n",
              "      <td>0.00</td>\n",
              "      <td>343.76</td>\n",
              "      <td>217.77</td>\n",
              "    </tr>\n",
              "  </tbody>\n",
              "</table>\n",
              "</div>"
            ],
            "text/plain": [
              "month_yr  CustomerID  Apr-2011  Aug-2011  ...  Nov-2011  Oct-2011  Sep-2011\n",
              "0            12346.0      0.00      0.00  ...      0.00      0.00      0.00\n",
              "1            12747.0      0.00    301.70  ...    312.73    675.38      0.00\n",
              "2            12748.0   1100.37    898.24  ...  10639.23   2292.84   6148.84\n",
              "3            12749.0      0.00   1896.13  ...    572.59      0.00      0.00\n",
              "4            12820.0      0.00      0.00  ...      0.00    343.76    217.77\n",
              "\n",
              "[5 rows x 14 columns]"
            ]
          },
          "metadata": {
            "tags": []
          },
          "execution_count": 32
        }
      ]
    },
    {
      "cell_type": "code",
      "metadata": {
        "id": "up7Hd_IrOO1t"
      },
      "source": [
        "sale['CLV']=sale.iloc[:,2:].sum(axis=1)"
      ],
      "execution_count": 33,
      "outputs": []
    },
    {
      "cell_type": "code",
      "metadata": {
        "colab": {
          "base_uri": "https://localhost:8080/",
          "height": 220
        },
        "id": "7Z-XZAmzORJV",
        "outputId": "11417638-150f-4056-dd7c-97b5028475f9"
      },
      "source": [
        "sale.head()"
      ],
      "execution_count": 34,
      "outputs": [
        {
          "output_type": "execute_result",
          "data": {
            "text/html": [
              "<div>\n",
              "<style scoped>\n",
              "    .dataframe tbody tr th:only-of-type {\n",
              "        vertical-align: middle;\n",
              "    }\n",
              "\n",
              "    .dataframe tbody tr th {\n",
              "        vertical-align: top;\n",
              "    }\n",
              "\n",
              "    .dataframe thead th {\n",
              "        text-align: right;\n",
              "    }\n",
              "</style>\n",
              "<table border=\"1\" class=\"dataframe\">\n",
              "  <thead>\n",
              "    <tr style=\"text-align: right;\">\n",
              "      <th>month_yr</th>\n",
              "      <th>CustomerID</th>\n",
              "      <th>Apr-2011</th>\n",
              "      <th>Aug-2011</th>\n",
              "      <th>Dec-2010</th>\n",
              "      <th>Dec-2011</th>\n",
              "      <th>Feb-2011</th>\n",
              "      <th>Jan-2011</th>\n",
              "      <th>Jul-2011</th>\n",
              "      <th>Jun-2011</th>\n",
              "      <th>Mar-2011</th>\n",
              "      <th>May-2011</th>\n",
              "      <th>Nov-2011</th>\n",
              "      <th>Oct-2011</th>\n",
              "      <th>Sep-2011</th>\n",
              "      <th>CLV</th>\n",
              "    </tr>\n",
              "  </thead>\n",
              "  <tbody>\n",
              "    <tr>\n",
              "      <th>0</th>\n",
              "      <td>12346.0</td>\n",
              "      <td>0.00</td>\n",
              "      <td>0.00</td>\n",
              "      <td>0.00</td>\n",
              "      <td>0.00</td>\n",
              "      <td>0.00</td>\n",
              "      <td>77183.60</td>\n",
              "      <td>0.00</td>\n",
              "      <td>0.00</td>\n",
              "      <td>0.00</td>\n",
              "      <td>0.00</td>\n",
              "      <td>0.00</td>\n",
              "      <td>0.00</td>\n",
              "      <td>0.00</td>\n",
              "      <td>77183.60</td>\n",
              "    </tr>\n",
              "    <tr>\n",
              "      <th>1</th>\n",
              "      <td>12747.0</td>\n",
              "      <td>0.00</td>\n",
              "      <td>301.70</td>\n",
              "      <td>706.27</td>\n",
              "      <td>438.50</td>\n",
              "      <td>0.00</td>\n",
              "      <td>303.04</td>\n",
              "      <td>0.00</td>\n",
              "      <td>376.30</td>\n",
              "      <td>310.78</td>\n",
              "      <td>771.31</td>\n",
              "      <td>312.73</td>\n",
              "      <td>675.38</td>\n",
              "      <td>0.00</td>\n",
              "      <td>4196.01</td>\n",
              "    </tr>\n",
              "    <tr>\n",
              "      <th>2</th>\n",
              "      <td>12748.0</td>\n",
              "      <td>1100.37</td>\n",
              "      <td>898.24</td>\n",
              "      <td>4228.13</td>\n",
              "      <td>1070.27</td>\n",
              "      <td>389.64</td>\n",
              "      <td>418.77</td>\n",
              "      <td>1113.27</td>\n",
              "      <td>2006.26</td>\n",
              "      <td>1179.37</td>\n",
              "      <td>2234.50</td>\n",
              "      <td>10639.23</td>\n",
              "      <td>2292.84</td>\n",
              "      <td>6148.84</td>\n",
              "      <td>32619.36</td>\n",
              "    </tr>\n",
              "    <tr>\n",
              "      <th>3</th>\n",
              "      <td>12749.0</td>\n",
              "      <td>0.00</td>\n",
              "      <td>1896.13</td>\n",
              "      <td>0.00</td>\n",
              "      <td>763.06</td>\n",
              "      <td>0.00</td>\n",
              "      <td>0.00</td>\n",
              "      <td>0.00</td>\n",
              "      <td>0.00</td>\n",
              "      <td>0.00</td>\n",
              "      <td>859.10</td>\n",
              "      <td>572.59</td>\n",
              "      <td>0.00</td>\n",
              "      <td>0.00</td>\n",
              "      <td>4090.88</td>\n",
              "    </tr>\n",
              "    <tr>\n",
              "      <th>4</th>\n",
              "      <td>12820.0</td>\n",
              "      <td>0.00</td>\n",
              "      <td>0.00</td>\n",
              "      <td>0.00</td>\n",
              "      <td>210.35</td>\n",
              "      <td>0.00</td>\n",
              "      <td>170.46</td>\n",
              "      <td>0.00</td>\n",
              "      <td>0.00</td>\n",
              "      <td>0.00</td>\n",
              "      <td>0.00</td>\n",
              "      <td>0.00</td>\n",
              "      <td>343.76</td>\n",
              "      <td>217.77</td>\n",
              "      <td>942.34</td>\n",
              "    </tr>\n",
              "  </tbody>\n",
              "</table>\n",
              "</div>"
            ],
            "text/plain": [
              "month_yr  CustomerID  Apr-2011  Aug-2011  ...  Oct-2011  Sep-2011       CLV\n",
              "0            12346.0      0.00      0.00  ...      0.00      0.00  77183.60\n",
              "1            12747.0      0.00    301.70  ...    675.38      0.00   4196.01\n",
              "2            12748.0   1100.37    898.24  ...   2292.84   6148.84  32619.36\n",
              "3            12749.0      0.00   1896.13  ...      0.00      0.00   4090.88\n",
              "4            12820.0      0.00      0.00  ...    343.76    217.77    942.34\n",
              "\n",
              "[5 rows x 15 columns]"
            ]
          },
          "metadata": {
            "tags": []
          },
          "execution_count": 34
        }
      ]
    },
    {
      "cell_type": "markdown",
      "metadata": {
        "id": "wY7TcM7KPsYr"
      },
      "source": [
        "# MULTI VARIABLE LINEAR REGRESSION"
      ]
    },
    {
      "cell_type": "code",
      "metadata": {
        "id": "1gWX-P8dOS0t"
      },
      "source": [
        "X=sale[['Dec-2011','Nov-2011', 'Oct-2011','Sep-2011','Aug-2011','Jul-2011']]\n",
        "y=sale[['CLV']]"
      ],
      "execution_count": 36,
      "outputs": []
    },
    {
      "cell_type": "code",
      "metadata": {
        "id": "D5fFloWaOX7X"
      },
      "source": [
        "#split training set and test set\n",
        "from sklearn.model_selection import train_test_split\n",
        "X_train, X_test, y_train, y_test = train_test_split(X, y,random_state=0)"
      ],
      "execution_count": 38,
      "outputs": []
    },
    {
      "cell_type": "code",
      "metadata": {
        "id": "PoaKFbIOOpBv"
      },
      "source": [
        "# import model\n",
        "from sklearn.linear_model import LinearRegression\n",
        "\n",
        "# instantiate\n",
        "linreg = LinearRegression()\n",
        "\n",
        "# fit the model to the training data (learn the coefficients)\n",
        "linreg.fit(X_train, y_train)\n",
        "\n",
        "# make predictions on the testing set\n",
        "y_pred = linreg.predict(X_test)"
      ],
      "execution_count": 39,
      "outputs": []
    },
    {
      "cell_type": "code",
      "metadata": {
        "colab": {
          "base_uri": "https://localhost:8080/"
        },
        "id": "leRg_VFVO0eN",
        "outputId": "a8bbe2a4-bf00-446d-c5a7-52fd57f9d93f"
      },
      "source": [
        "# print the intercept and coefficients\n",
        "print(linreg.intercept_)\n",
        "print(linreg.coef_)"
      ],
      "execution_count": 40,
      "outputs": [
        {
          "output_type": "stream",
          "text": [
            "[208.50969617]\n",
            "[[0.99880551 0.80381254 1.60226829 1.67433228 1.52860813 2.87959449]]\n"
          ],
          "name": "stdout"
        }
      ]
    },
    {
      "cell_type": "code",
      "metadata": {
        "colab": {
          "base_uri": "https://localhost:8080/"
        },
        "id": "3IBa3VS3O4mM",
        "outputId": "a5c76e10-b737-42c1-d64a-b0815d72a607"
      },
      "source": [
        "from sklearn import metrics\n",
        "\n",
        "# compute the R Square for model\n",
        "print(\"R-Square:\",metrics.r2_score(y_test, y_pred))"
      ],
      "execution_count": 41,
      "outputs": [
        {
          "output_type": "stream",
          "text": [
            "R-Square: 0.9666074402817513\n"
          ],
          "name": "stdout"
        }
      ]
    },
    {
      "cell_type": "code",
      "metadata": {
        "colab": {
          "base_uri": "https://localhost:8080/"
        },
        "id": "d2WpCSSwO7DL",
        "outputId": "31204a5d-ce65-496b-ad67-6c3857883464"
      },
      "source": [
        "# calculate MAE using scikit-learn\n",
        "print(\"MAE:\",metrics.mean_absolute_error(y_test,y_pred))\n",
        "\n",
        "#calculate mean squared error\n",
        "print(\"MSE\",metrics.mean_squared_error(y_test, y_pred))\n",
        "# compute the RMSE of our predictions\n",
        "print(\"RMSE:\",np.sqrt(metrics.mean_squared_error(y_test, y_pred)))"
      ],
      "execution_count": 42,
      "outputs": [
        {
          "output_type": "stream",
          "text": [
            "MAE: 595.0282284701232\n",
            "MSE 2114139.8898678916\n",
            "RMSE: 1454.008215199588\n"
          ],
          "name": "stdout"
        }
      ]
    },
    {
      "cell_type": "markdown",
      "metadata": {
        "id": "u99OSjb-PzYO"
      },
      "source": [
        "# SINGLE VARIABLE LINEAR REGRESSION"
      ]
    },
    {
      "cell_type": "code",
      "metadata": {
        "id": "ABTVmfD5O79u"
      },
      "source": [
        "X_single=sale[['Dec-2011']]\n",
        "y_single=sale[['CLV']]"
      ],
      "execution_count": 43,
      "outputs": []
    },
    {
      "cell_type": "code",
      "metadata": {
        "id": "hBCE7h8lQt6d"
      },
      "source": [
        "from sklearn.model_selection import train_test_split\n",
        "X_single_train, X_single_test, y_single_train, y_single_test = train_test_split(X_single, y_single,random_state=0)"
      ],
      "execution_count": 44,
      "outputs": []
    },
    {
      "cell_type": "code",
      "metadata": {
        "id": "vcDN1XlZQ8aT"
      },
      "source": [
        "# import model\n",
        "from sklearn.linear_model import LinearRegression\n",
        "\n",
        "# instantiate\n",
        "Singlelinreg = LinearRegression()\n",
        "\n",
        "# fit the model to the training data (learn the coefficients)\n",
        "Singlelinreg.fit(X_single_train, y_single_train)\n",
        "\n",
        "# make predictions on the testing set\n",
        "y_single_pred = Singlelinreg.predict(X_single_test)"
      ],
      "execution_count": 46,
      "outputs": []
    },
    {
      "cell_type": "code",
      "metadata": {
        "colab": {
          "base_uri": "https://localhost:8080/"
        },
        "id": "w_ZmFO2_RUyy",
        "outputId": "031272ad-8f6f-43da-bce8-41d293ede672"
      },
      "source": [
        "# print the intercept and coefficients\n",
        "print(Singlelinreg.intercept_)\n",
        "print(Singlelinreg.coef_)"
      ],
      "execution_count": 47,
      "outputs": [
        {
          "output_type": "stream",
          "text": [
            "[1551.74459932]\n",
            "[[1.15575012]]\n"
          ],
          "name": "stdout"
        }
      ]
    },
    {
      "cell_type": "code",
      "metadata": {
        "colab": {
          "base_uri": "https://localhost:8080/"
        },
        "id": "iepS1COwRdML",
        "outputId": "b4eab137-2666-4ac5-c46e-77045f62ac47"
      },
      "source": [
        "from sklearn import metrics\n",
        "\n",
        "# compute the R Square for model\n",
        "print(\"R-Square:\",metrics.r2_score(y_single_test, y_single_pred))"
      ],
      "execution_count": 48,
      "outputs": [
        {
          "output_type": "stream",
          "text": [
            "R-Square: 0.06787792327706543\n"
          ],
          "name": "stdout"
        }
      ]
    },
    {
      "cell_type": "code",
      "metadata": {
        "colab": {
          "base_uri": "https://localhost:8080/"
        },
        "id": "WHVYlA7gRn8y",
        "outputId": "74018c06-1a84-4288-aaf9-ef36fd59f974"
      },
      "source": [
        "# calculate MAE using scikit-learn\n",
        "print(\"MAE:\",metrics.mean_absolute_error(y_single_test,y_single_pred))\n",
        "\n",
        "#calculate mean squared error\n",
        "print(\"MSE\",metrics.mean_squared_error(y_single_test, y_single_pred))\n",
        "# compute the RMSE of our predictions\n",
        "print(\"RMSE:\",np.sqrt(metrics.mean_squared_error(y_single_test, y_single_pred)))"
      ],
      "execution_count": 49,
      "outputs": [
        {
          "output_type": "stream",
          "text": [
            "MAE: 1874.2617967148703\n",
            "MSE 59014237.939642504\n",
            "RMSE: 7682.07250288895\n"
          ],
          "name": "stdout"
        }
      ]
    }
  ]
}